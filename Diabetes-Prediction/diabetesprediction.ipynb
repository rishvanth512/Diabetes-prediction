{
  "nbformat": 4,
  "nbformat_minor": 0,
  "metadata": {
    "colab": {
      "name": "diabetesprediction.ipynb",
      "provenance": [],
      "collapsed_sections": []
    },
    "kernelspec": {
      "name": "python3",
      "display_name": "Python 3"
    },
    "language_info": {
      "name": "python"
    }
  },
  "cells": [
    {
      "cell_type": "markdown",
      "metadata": {
        "id": "dQaM5lvU0k8e"
      },
      "source": [
        "**Importing the required number of libraries for the program to run**\n"
      ]
    },
    {
      "cell_type": "code",
      "metadata": {
        "id": "6DN0cvCM0ffu"
      },
      "source": [
        "import numpy as np\n",
        "import pandas as pd\n",
        "\n",
        "from sklearn.preprocessing import StandardScaler\n",
        "\n",
        "from sklearn import svm\n",
        "\n",
        "from sklearn.model_selection import train_test_split\n",
        "from sklearn.metrics import accuracy_score\n",
        "import seaborn as sns\n",
        "import matplotlib.pyplot as plt\n",
        "import warnings\n",
        "warnings.filterwarnings('ignore')\n"
      ],
      "execution_count": null,
      "outputs": []
    },
    {
      "cell_type": "code",
      "metadata": {
        "id": "Q9Bkg0Nf0nQu"
      },
      "source": [
        ""
      ],
      "execution_count": null,
      "outputs": []
    },
    {
      "cell_type": "markdown",
      "metadata": {
        "id": "mh_goe5y3Mvb"
      },
      "source": [
        "Uploading the dataset with the path and assigning it to the variable"
      ]
    },
    {
      "cell_type": "code",
      "metadata": {
        "id": "0ayBC9-MGFAi"
      },
      "source": [
        "# loading the diabetes dataset to a pandas DataFrame\n",
        "diabetes_dataset = pd.read_csv('/content/diabetes.csv') "
      ],
      "execution_count": null,
      "outputs": []
    },
    {
      "cell_type": "markdown",
      "metadata": {
        "id": "7fBQgjRJ3ss0"
      },
      "source": [
        "Displaying the first five entries in the data to get an idea of how the data looks like"
      ]
    },
    {
      "cell_type": "code",
      "metadata": {
        "colab": {
          "base_uri": "https://localhost:8080/",
          "height": 206
        },
        "id": "56njnNE4GKpC",
        "outputId": "08263bfd-2cc5-40e8-c88a-275ed0f00e54"
      },
      "source": [
        "diabetes_dataset.head()"
      ],
      "execution_count": null,
      "outputs": [
        {
          "output_type": "execute_result",
          "data": {
            "text/html": [
              "<div>\n",
              "<style scoped>\n",
              "    .dataframe tbody tr th:only-of-type {\n",
              "        vertical-align: middle;\n",
              "    }\n",
              "\n",
              "    .dataframe tbody tr th {\n",
              "        vertical-align: top;\n",
              "    }\n",
              "\n",
              "    .dataframe thead th {\n",
              "        text-align: right;\n",
              "    }\n",
              "</style>\n",
              "<table border=\"1\" class=\"dataframe\">\n",
              "  <thead>\n",
              "    <tr style=\"text-align: right;\">\n",
              "      <th></th>\n",
              "      <th>Pregnancies</th>\n",
              "      <th>Glucose</th>\n",
              "      <th>BloodPressure</th>\n",
              "      <th>SkinThickness</th>\n",
              "      <th>Insulin</th>\n",
              "      <th>BMI</th>\n",
              "      <th>DiabetesPedigreeFunction</th>\n",
              "      <th>Age</th>\n",
              "      <th>Outcome</th>\n",
              "    </tr>\n",
              "  </thead>\n",
              "  <tbody>\n",
              "    <tr>\n",
              "      <th>0</th>\n",
              "      <td>6</td>\n",
              "      <td>148</td>\n",
              "      <td>72</td>\n",
              "      <td>35</td>\n",
              "      <td>0</td>\n",
              "      <td>33.6</td>\n",
              "      <td>0.627</td>\n",
              "      <td>50</td>\n",
              "      <td>1</td>\n",
              "    </tr>\n",
              "    <tr>\n",
              "      <th>1</th>\n",
              "      <td>1</td>\n",
              "      <td>85</td>\n",
              "      <td>66</td>\n",
              "      <td>29</td>\n",
              "      <td>0</td>\n",
              "      <td>26.6</td>\n",
              "      <td>0.351</td>\n",
              "      <td>31</td>\n",
              "      <td>0</td>\n",
              "    </tr>\n",
              "    <tr>\n",
              "      <th>2</th>\n",
              "      <td>8</td>\n",
              "      <td>183</td>\n",
              "      <td>64</td>\n",
              "      <td>0</td>\n",
              "      <td>0</td>\n",
              "      <td>23.3</td>\n",
              "      <td>0.672</td>\n",
              "      <td>32</td>\n",
              "      <td>1</td>\n",
              "    </tr>\n",
              "    <tr>\n",
              "      <th>3</th>\n",
              "      <td>1</td>\n",
              "      <td>89</td>\n",
              "      <td>66</td>\n",
              "      <td>23</td>\n",
              "      <td>94</td>\n",
              "      <td>28.1</td>\n",
              "      <td>0.167</td>\n",
              "      <td>21</td>\n",
              "      <td>0</td>\n",
              "    </tr>\n",
              "    <tr>\n",
              "      <th>4</th>\n",
              "      <td>0</td>\n",
              "      <td>137</td>\n",
              "      <td>40</td>\n",
              "      <td>35</td>\n",
              "      <td>168</td>\n",
              "      <td>43.1</td>\n",
              "      <td>2.288</td>\n",
              "      <td>33</td>\n",
              "      <td>1</td>\n",
              "    </tr>\n",
              "  </tbody>\n",
              "</table>\n",
              "</div>"
            ],
            "text/plain": [
              "   Pregnancies  Glucose  BloodPressure  ...  DiabetesPedigreeFunction  Age  Outcome\n",
              "0            6      148             72  ...                     0.627   50        1\n",
              "1            1       85             66  ...                     0.351   31        0\n",
              "2            8      183             64  ...                     0.672   32        1\n",
              "3            1       89             66  ...                     0.167   21        0\n",
              "4            0      137             40  ...                     2.288   33        1\n",
              "\n",
              "[5 rows x 9 columns]"
            ]
          },
          "metadata": {},
          "execution_count": 193
        }
      ]
    },
    {
      "cell_type": "markdown",
      "metadata": {
        "id": "mAfgLgN_4Akv"
      },
      "source": [
        "## Data Visualization"
      ]
    },
    {
      "cell_type": "markdown",
      "metadata": {
        "id": "AbVYo2v_31SQ"
      },
      "source": [
        "Displaying the number of non-diabetic and diabteic people in the dataset"
      ]
    },
    {
      "cell_type": "code",
      "metadata": {
        "colab": {
          "base_uri": "https://localhost:8080/",
          "height": 297
        },
        "id": "ehjXZcQi08AW",
        "outputId": "e899d4eb-4f9c-4487-e586-cb8b25b473db"
      },
      "source": [
        "sns.countplot(x = 'Outcome',data = diabetes_dataset)"
      ],
      "execution_count": null,
      "outputs": [
        {
          "output_type": "execute_result",
          "data": {
            "text/plain": [
              "<matplotlib.axes._subplots.AxesSubplot at 0x7f74cc1d2290>"
            ]
          },
          "metadata": {},
          "execution_count": 194
        },
        {
          "output_type": "display_data",
          "data": {
            "image/png": "[encoded data removed]",
            "text/plain": [
              "<Figure size 432x288 with 1 Axes>"
            ]
          },
          "metadata": {
            "needs_background": "light"
          }
        }
      ]
    },
    {
      "cell_type": "markdown",
      "metadata": {
        "id": "ODAr2z4P393A"
      },
      "source": [
        "Bar Graph of Each Column with respect to the outcome"
      ]
    },
    {
      "cell_type": "code",
      "metadata": {
        "colab": {
          "base_uri": "https://localhost:8080/",
          "height": 297
        },
        "id": "TpU-6_Do0-0q",
        "outputId": "faee76b3-f90c-4a67-df39-a430dfeb544b"
      },
      "source": [
        "sns.barplot(x='Outcome',y='Glucose',data=diabetes_dataset,palette=\"Blues\")"
      ],
      "execution_count": null,
      "outputs": [
        {
          "output_type": "execute_result",
          "data": {
            "text/plain": [
              "<matplotlib.axes._subplots.AxesSubplot at 0x7f74cc1492d0>"
            ]
          },
          "metadata": {},
          "execution_count": 195
        },
        {
          "output_type": "display_data",
          "data": {
            "image/png": "[encoded data removed]",
            "text/plain": [
              "<Figure size 432x288 with 1 Axes>"
            ]
          },
          "metadata": {
            "needs_background": "light"
          }
        }
      ]
    },
    {
      "cell_type": "markdown",
      "metadata": {
        "id": "7XyFDtWQzcNd"
      },
      "source": [
        "The glucose and outcome relation could be seen as glucose increases the outcome of being diabetic also increases"
      ]
    },
    {
      "cell_type": "code",
      "metadata": {
        "colab": {
          "base_uri": "https://localhost:8080/",
          "height": 297
        },
        "id": "c1Dqqepe1B9e",
        "outputId": "ac89b3ec-4e42-4537-8f67-4500dd3a6941"
      },
      "source": [
        "sns.barplot(x='Outcome',y='Pregnancies',data=diabetes_dataset,palette=\"Blues\")"
      ],
      "execution_count": null,
      "outputs": [
        {
          "output_type": "execute_result",
          "data": {
            "text/plain": [
              "<matplotlib.axes._subplots.AxesSubplot at 0x7f74cc0b8e50>"
            ]
          },
          "metadata": {},
          "execution_count": 196
        },
        {
          "output_type": "display_data",
          "data": {
            "image/png": "[encoded data removed]",
            "text/plain": [
              "<Figure size 432x288 with 1 Axes>"
            ]
          },
          "metadata": {
            "needs_background": "light"
          }
        }
      ]
    },
    {
      "cell_type": "markdown",
      "metadata": {
        "id": "amwRuFL5zpb5"
      },
      "source": [
        "The glucose and outcome relation could be seen as propotional ,glucose increases the outcome of being diabetic also increases"
      ]
    },
    {
      "cell_type": "markdown",
      "metadata": {
        "id": "71618ayIzqmc"
      },
      "source": [
        "Outcome with respect to insulin"
      ]
    },
    {
      "cell_type": "code",
      "metadata": {
        "colab": {
          "base_uri": "https://localhost:8080/",
          "height": 297
        },
        "id": "u974N5VP1Epu",
        "outputId": "afbe41a8-cce2-4a16-c51d-cd2684cbe9db"
      },
      "source": [
        "sns.barplot(x='Outcome',y='Insulin',data=diabetes_dataset,palette=\"Blues\")"
      ],
      "execution_count": null,
      "outputs": [
        {
          "output_type": "execute_result",
          "data": {
            "text/plain": [
              "<matplotlib.axes._subplots.AxesSubplot at 0x7f74dcff1e90>"
            ]
          },
          "metadata": {},
          "execution_count": 10
        },
        {
          "output_type": "display_data",
          "data": {
            "image/png": "[encoded data removed]",
            "text/plain": [
              "<Figure size 432x288 with 1 Axes>"
            ]
          },
          "metadata": {
            "needs_background": "light"
          }
        }
      ]
    },
    {
      "cell_type": "markdown",
      "metadata": {
        "id": "W2OmUofWzzPk"
      },
      "source": [
        "The glucose and outcome relation could be seen as insulin increases the outcome of being diabetic also increases"
      ]
    },
    {
      "cell_type": "markdown",
      "metadata": {
        "id": "UjnJcXn3z9Be"
      },
      "source": [
        "Relation between Outcome and BMI"
      ]
    },
    {
      "cell_type": "code",
      "metadata": {
        "colab": {
          "base_uri": "https://localhost:8080/",
          "height": 297
        },
        "id": "JNUFU5Iq1GkR",
        "outputId": "9df79671-391e-4c2a-ee28-5e2caf513d64"
      },
      "source": [
        "sns.barplot(x='Outcome',y='BMI',data=diabetes_dataset,palette=\"Blues\")"
      ],
      "execution_count": null,
      "outputs": [
        {
          "output_type": "execute_result",
          "data": {
            "text/plain": [
              "<matplotlib.axes._subplots.AxesSubplot at 0x7f74dcf6df10>"
            ]
          },
          "metadata": {},
          "execution_count": 11
        },
        {
          "output_type": "display_data",
          "data": {
            "image/png": "[encoded data removed]",
            "text/plain": [
              "<Figure size 432x288 with 1 Axes>"
            ]
          },
          "metadata": {
            "needs_background": "light"
          }
        }
      ]
    },
    {
      "cell_type": "markdown",
      "metadata": {
        "id": "MCFdzyy_0DSS"
      },
      "source": [
        "The BMI and outcome relation could be seen as glucose increases the outcome of being diabetic also increases(less difference as compared to others)"
      ]
    },
    {
      "cell_type": "markdown",
      "metadata": {
        "id": "z79ACJaC0M5I"
      },
      "source": [
        "Relation between Diabetes Pedigree Function and Outcome"
      ]
    },
    {
      "cell_type": "code",
      "metadata": {
        "colab": {
          "base_uri": "https://localhost:8080/",
          "height": 297
        },
        "id": "KNw3rPEq1I8L",
        "outputId": "d16273d4-4069-49f5-ef97-3d81a969d23f"
      },
      "source": [
        "sns.barplot(x='Outcome',y='DiabetesPedigreeFunction',data=diabetes_dataset,palette=\"Blues\")"
      ],
      "execution_count": null,
      "outputs": [
        {
          "output_type": "execute_result",
          "data": {
            "text/plain": [
              "<matplotlib.axes._subplots.AxesSubplot at 0x7fdc5d4fbe90>"
            ]
          },
          "metadata": {},
          "execution_count": 37
        },
        {
          "output_type": "display_data",
          "data": {
            "image/png": "[encoded data removed]",
            "text/plain": [
              "<Figure size 432x288 with 1 Axes>"
            ]
          },
          "metadata": {
            "needs_background": "light"
          }
        }
      ]
    },
    {
      "cell_type": "markdown",
      "metadata": {
        "id": "0h_kYnWl0WA8"
      },
      "source": [
        "The Diabetes Pedeigree function and outcome relation could be seen as glucose increases the outcome of being diabetic also increases"
      ]
    },
    {
      "cell_type": "code",
      "metadata": {
        "id": "NL0C4U0J0eNM"
      },
      "source": [
        "Relation betwewn Age and Outcome"
      ],
      "execution_count": null,
      "outputs": []
    },
    {
      "cell_type": "code",
      "metadata": {
        "colab": {
          "base_uri": "https://localhost:8080/",
          "height": 299
        },
        "id": "ISXnsSMU1Ov0",
        "outputId": "bbad5f9e-c4b4-4c04-c21a-97f3d8cb85bb"
      },
      "source": [
        "sns.barplot(x='Outcome',y='Age',data=diabetes_dataset,palette=\"Blues\")"
      ],
      "execution_count": null,
      "outputs": [
        {
          "output_type": "execute_result",
          "data": {
            "text/plain": [
              "<matplotlib.axes._subplots.AxesSubplot at 0x7fdc65651710>"
            ]
          },
          "metadata": {},
          "execution_count": 38
        },
        {
          "output_type": "display_data",
          "data": {
            "image/png": "[encoded data removed]",
            "text/plain": [
              "<Figure size 432x288 with 1 Axes>"
            ]
          },
          "metadata": {
            "needs_background": "light"
          }
        }
      ]
    },
    {
      "cell_type": "markdown",
      "metadata": {
        "id": "cnPgrEvU0kPu"
      },
      "source": [
        "The age and outcome relation could be seen as age increases the outcome of being diabetic also increases"
      ]
    },
    {
      "cell_type": "markdown",
      "metadata": {
        "id": "dyTAREop0kKQ"
      },
      "source": [
        "As seen the increase of the all the columns or attributes can increase our outcome of having diabetes"
      ]
    },
    {
      "cell_type": "markdown",
      "metadata": {
        "id": "mFgV0rez1Lnh"
      },
      "source": [
        "Heat Map"
      ]
    },
    {
      "cell_type": "markdown",
      "metadata": {
        "id": "__q1KEggeZcw"
      },
      "source": [
        "Making a heat map so as to classify which columns greatly affect our outcome"
      ]
    },
    {
      "cell_type": "code",
      "metadata": {
        "colab": {
          "base_uri": "https://localhost:8080/",
          "height": 390
        },
        "id": "z8n-RERd1Pa_",
        "outputId": "13391be8-381a-4cb0-fc68-0954006647f8"
      },
      "source": [
        "cor=diabetes_dataset.corr()\n",
        "sns.heatmap(cor, annot = True)\n",
        "plt.show()"
      ],
      "execution_count": null,
      "outputs": [
        {
          "output_type": "display_data",
          "data": {
            "image/png": "[encoded data removed]",
            "text/plain": [
              "<Figure size 432x288 with 2 Axes>"
            ]
          },
          "metadata": {
            "needs_background": "light"
          }
        }
      ]
    },
    {
      "cell_type": "markdown",
      "metadata": {
        "id": "x0OEc69D1RcP"
      },
      "source": [
        "As we can see the Age,BMI,Insulin and glucose are the ones which are having a high corelation with the result of being diabetic or not(i.e the outcome)"
      ]
    },
    {
      "cell_type": "markdown",
      "metadata": {
        "id": "IrZm0b8-e0ix"
      },
      "source": [
        "\n",
        "\n",
        "---\n",
        "\n"
      ]
    },
    {
      "cell_type": "markdown",
      "metadata": {
        "id": "ZQwZc820JoVY"
      },
      "source": [
        "Describing the data finding out mean,count,minimum value,maximum value and other important details."
      ]
    },
    {
      "cell_type": "code",
      "metadata": {
        "colab": {
          "base_uri": "https://localhost:8080/",
          "height": 300
        },
        "id": "Zdnfge5PJkf-",
        "outputId": "5198b572-35ca-408c-b564-41be44751609"
      },
      "source": [
        "diabetes_dataset.describe()"
      ],
      "execution_count": null,
      "outputs": [
        {
          "output_type": "execute_result",
          "data": {
            "text/html": [
              "<div>\n",
              "<style scoped>\n",
              "    .dataframe tbody tr th:only-of-type {\n",
              "        vertical-align: middle;\n",
              "    }\n",
              "\n",
              "    .dataframe tbody tr th {\n",
              "        vertical-align: top;\n",
              "    }\n",
              "\n",
              "    .dataframe thead th {\n",
              "        text-align: right;\n",
              "    }\n",
              "</style>\n",
              "<table border=\"1\" class=\"dataframe\">\n",
              "  <thead>\n",
              "    <tr style=\"text-align: right;\">\n",
              "      <th></th>\n",
              "      <th>Pregnancies</th>\n",
              "      <th>Glucose</th>\n",
              "      <th>BloodPressure</th>\n",
              "      <th>SkinThickness</th>\n",
              "      <th>Insulin</th>\n",
              "      <th>BMI</th>\n",
              "      <th>DiabetesPedigreeFunction</th>\n",
              "      <th>Age</th>\n",
              "      <th>Outcome</th>\n",
              "    </tr>\n",
              "  </thead>\n",
              "  <tbody>\n",
              "    <tr>\n",
              "      <th>count</th>\n",
              "      <td>768.000000</td>\n",
              "      <td>768.000000</td>\n",
              "      <td>768.000000</td>\n",
              "      <td>768.000000</td>\n",
              "      <td>768.000000</td>\n",
              "      <td>768.000000</td>\n",
              "      <td>768.000000</td>\n",
              "      <td>768.000000</td>\n",
              "      <td>768.000000</td>\n",
              "    </tr>\n",
              "    <tr>\n",
              "      <th>mean</th>\n",
              "      <td>3.845052</td>\n",
              "      <td>120.894531</td>\n",
              "      <td>69.105469</td>\n",
              "      <td>20.536458</td>\n",
              "      <td>79.799479</td>\n",
              "      <td>31.992578</td>\n",
              "      <td>0.471876</td>\n",
              "      <td>33.240885</td>\n",
              "      <td>0.348958</td>\n",
              "    </tr>\n",
              "    <tr>\n",
              "      <th>std</th>\n",
              "      <td>3.369578</td>\n",
              "      <td>31.972618</td>\n",
              "      <td>19.355807</td>\n",
              "      <td>15.952218</td>\n",
              "      <td>115.244002</td>\n",
              "      <td>7.884160</td>\n",
              "      <td>0.331329</td>\n",
              "      <td>11.760232</td>\n",
              "      <td>0.476951</td>\n",
              "    </tr>\n",
              "    <tr>\n",
              "      <th>min</th>\n",
              "      <td>0.000000</td>\n",
              "      <td>0.000000</td>\n",
              "      <td>0.000000</td>\n",
              "      <td>0.000000</td>\n",
              "      <td>0.000000</td>\n",
              "      <td>0.000000</td>\n",
              "      <td>0.078000</td>\n",
              "      <td>21.000000</td>\n",
              "      <td>0.000000</td>\n",
              "    </tr>\n",
              "    <tr>\n",
              "      <th>25%</th>\n",
              "      <td>1.000000</td>\n",
              "      <td>99.000000</td>\n",
              "      <td>62.000000</td>\n",
              "      <td>0.000000</td>\n",
              "      <td>0.000000</td>\n",
              "      <td>27.300000</td>\n",
              "      <td>0.243750</td>\n",
              "      <td>24.000000</td>\n",
              "      <td>0.000000</td>\n",
              "    </tr>\n",
              "    <tr>\n",
              "      <th>50%</th>\n",
              "      <td>3.000000</td>\n",
              "      <td>117.000000</td>\n",
              "      <td>72.000000</td>\n",
              "      <td>23.000000</td>\n",
              "      <td>30.500000</td>\n",
              "      <td>32.000000</td>\n",
              "      <td>0.372500</td>\n",
              "      <td>29.000000</td>\n",
              "      <td>0.000000</td>\n",
              "    </tr>\n",
              "    <tr>\n",
              "      <th>75%</th>\n",
              "      <td>6.000000</td>\n",
              "      <td>140.250000</td>\n",
              "      <td>80.000000</td>\n",
              "      <td>32.000000</td>\n",
              "      <td>127.250000</td>\n",
              "      <td>36.600000</td>\n",
              "      <td>0.626250</td>\n",
              "      <td>41.000000</td>\n",
              "      <td>1.000000</td>\n",
              "    </tr>\n",
              "    <tr>\n",
              "      <th>max</th>\n",
              "      <td>17.000000</td>\n",
              "      <td>199.000000</td>\n",
              "      <td>122.000000</td>\n",
              "      <td>99.000000</td>\n",
              "      <td>846.000000</td>\n",
              "      <td>67.100000</td>\n",
              "      <td>2.420000</td>\n",
              "      <td>81.000000</td>\n",
              "      <td>1.000000</td>\n",
              "    </tr>\n",
              "  </tbody>\n",
              "</table>\n",
              "</div>"
            ],
            "text/plain": [
              "       Pregnancies     Glucose  ...         Age     Outcome\n",
              "count   768.000000  768.000000  ...  768.000000  768.000000\n",
              "mean      3.845052  120.894531  ...   33.240885    0.348958\n",
              "std       3.369578   31.972618  ...   11.760232    0.476951\n",
              "min       0.000000    0.000000  ...   21.000000    0.000000\n",
              "25%       1.000000   99.000000  ...   24.000000    0.000000\n",
              "50%       3.000000  117.000000  ...   29.000000    0.000000\n",
              "75%       6.000000  140.250000  ...   41.000000    1.000000\n",
              "max      17.000000  199.000000  ...   81.000000    1.000000\n",
              "\n",
              "[8 rows x 9 columns]"
            ]
          },
          "metadata": {},
          "execution_count": 102
        }
      ]
    },
    {
      "cell_type": "markdown",
      "metadata": {
        "id": "olB97-Yse4_a"
      },
      "source": [
        "\n",
        "\n",
        "---\n",
        "\n"
      ]
    },
    {
      "cell_type": "markdown",
      "metadata": {
        "id": "w62EVoxJ19Cg"
      },
      "source": [
        "Splitting data into two labels(Data preprocessing)"
      ]
    },
    {
      "cell_type": "code",
      "metadata": {
        "id": "pzk0Em6x1UOw"
      },
      "source": [
        "P=diabetes_dataset.drop(columns='Outcome',axis=1)\n",
        "Q=diabetes_dataset['Outcome']\n"
      ],
      "execution_count": null,
      "outputs": []
    },
    {
      "cell_type": "markdown",
      "metadata": {
        "id": "bvvvYmlg2U6K"
      },
      "source": [
        "P will contain all rows and columns except the outcome,\n",
        "axis=1 indicates removal of a column "
      ]
    },
    {
      "cell_type": "code",
      "metadata": {
        "colab": {
          "base_uri": "https://localhost:8080/"
        },
        "id": "RBrb-sjh1V-6",
        "outputId": "3a6af47e-e9b3-47d9-9ec9-b2e6e26abce2"
      },
      "source": [
        "print(P)\n"
      ],
      "execution_count": null,
      "outputs": [
        {
          "output_type": "stream",
          "name": "stdout",
          "text": [
            "     Pregnancies  Glucose  BloodPressure  ...   BMI  DiabetesPedigreeFunction  Age\n",
            "0              6      148             72  ...  33.6                     0.627   50\n",
            "1              1       85             66  ...  26.6                     0.351   31\n",
            "2              8      183             64  ...  23.3                     0.672   32\n",
            "3              1       89             66  ...  28.1                     0.167   21\n",
            "4              0      137             40  ...  43.1                     2.288   33\n",
            "..           ...      ...            ...  ...   ...                       ...  ...\n",
            "763           10      101             76  ...  32.9                     0.171   63\n",
            "764            2      122             70  ...  36.8                     0.340   27\n",
            "765            5      121             72  ...  26.2                     0.245   30\n",
            "766            1      126             60  ...  30.1                     0.349   47\n",
            "767            1       93             70  ...  30.4                     0.315   23\n",
            "\n",
            "[768 rows x 8 columns]\n"
          ]
        }
      ]
    },
    {
      "cell_type": "markdown",
      "metadata": {
        "id": "gyvU6keJ2rUY"
      },
      "source": [
        "Q would contain only the outcome column"
      ]
    },
    {
      "cell_type": "code",
      "metadata": {
        "colab": {
          "base_uri": "https://localhost:8080/"
        },
        "id": "foC8NTdX2lkm",
        "outputId": "81e32f5d-121f-4a7b-d2cd-495bdeccd78c"
      },
      "source": [
        "print(Q)"
      ],
      "execution_count": null,
      "outputs": [
        {
          "output_type": "stream",
          "name": "stdout",
          "text": [
            "0      1\n",
            "1      0\n",
            "2      1\n",
            "3      0\n",
            "4      1\n",
            "      ..\n",
            "763    0\n",
            "764    0\n",
            "765    0\n",
            "766    1\n",
            "767    0\n",
            "Name: Outcome, Length: 768, dtype: int64\n"
          ]
        }
      ]
    },
    {
      "cell_type": "markdown",
      "metadata": {
        "id": "7T95kgUQfQBP"
      },
      "source": [
        "Data Standardization"
      ]
    },
    {
      "cell_type": "markdown",
      "metadata": {
        "id": "S04ELBfO20x4"
      },
      "source": [
        "There are different range of values for the differnt columns so in order to achieve higher accuracy we standardize the data "
      ]
    },
    {
      "cell_type": "code",
      "metadata": {
        "id": "-Uxi9xUW1aCb"
      },
      "source": [
        "standardscaler= StandardScaler()"
      ],
      "execution_count": null,
      "outputs": []
    },
    {
      "cell_type": "code",
      "metadata": {
        "colab": {
          "base_uri": "https://localhost:8080/"
        },
        "id": "Ids6W-Fp1b1a",
        "outputId": "7f5a3ee5-21ae-4c0a-d4ee-aa6b225b12cb"
      },
      "source": [
        "standardscaler.fit(P)"
      ],
      "execution_count": null,
      "outputs": [
        {
          "output_type": "execute_result",
          "data": {
            "text/plain": [
              "StandardScaler()"
            ]
          },
          "metadata": {},
          "execution_count": 17
        }
      ]
    },
    {
      "cell_type": "code",
      "metadata": {
        "id": "sXmaytPG1do9"
      },
      "source": [
        "# After fit,transforming and storing it in s_data\n",
        "s_data=standardscaler.transform(P)"
      ],
      "execution_count": null,
      "outputs": []
    },
    {
      "cell_type": "code",
      "metadata": {
        "colab": {
          "base_uri": "https://localhost:8080/"
        },
        "id": "wpDUkOcw1fV5",
        "outputId": "c72fe402-e908-405e-c3a2-8ddcaafd46ab"
      },
      "source": [
        "#printing the new data with less differences between values\n",
        "print(s_data)"
      ],
      "execution_count": null,
      "outputs": [
        {
          "output_type": "stream",
          "name": "stdout",
          "text": [
            "[[ 0.63994726  0.84832379  0.14964075 ...  0.20401277  0.46849198\n",
            "   1.4259954 ]\n",
            " [-0.84488505 -1.12339636 -0.16054575 ... -0.68442195 -0.36506078\n",
            "  -0.19067191]\n",
            " [ 1.23388019  1.94372388 -0.26394125 ... -1.10325546  0.60439732\n",
            "  -0.10558415]\n",
            " ...\n",
            " [ 0.3429808   0.00330087  0.14964075 ... -0.73518964 -0.68519336\n",
            "  -0.27575966]\n",
            " [-0.84488505  0.1597866  -0.47073225 ... -0.24020459 -0.37110101\n",
            "   1.17073215]\n",
            " [-0.84488505 -0.8730192   0.04624525 ... -0.20212881 -0.47378505\n",
            "  -0.87137393]]\n"
          ]
        }
      ]
    },
    {
      "cell_type": "code",
      "metadata": {
        "colab": {
          "base_uri": "https://localhost:8080/"
        },
        "id": "MXZXAwZB1ihq",
        "outputId": "a642ec72-49c7-4df7-a53b-37bc1f34a7e3"
      },
      "source": [
        "#storing it back in P\n",
        "P=s_data\n",
        "print(P)"
      ],
      "execution_count": null,
      "outputs": [
        {
          "output_type": "stream",
          "name": "stdout",
          "text": [
            "[[ 0.63994726  0.84832379  0.14964075 ...  0.20401277  0.46849198\n",
            "   1.4259954 ]\n",
            " [-0.84488505 -1.12339636 -0.16054575 ... -0.68442195 -0.36506078\n",
            "  -0.19067191]\n",
            " [ 1.23388019  1.94372388 -0.26394125 ... -1.10325546  0.60439732\n",
            "  -0.10558415]\n",
            " ...\n",
            " [ 0.3429808   0.00330087  0.14964075 ... -0.73518964 -0.68519336\n",
            "  -0.27575966]\n",
            " [-0.84488505  0.1597866  -0.47073225 ... -0.24020459 -0.37110101\n",
            "   1.17073215]\n",
            " [-0.84488505 -0.8730192   0.04624525 ... -0.20212881 -0.47378505\n",
            "  -0.87137393]]\n"
          ]
        }
      ]
    },
    {
      "cell_type": "code",
      "metadata": {
        "id": "IbMabcPP1lOp"
      },
      "source": [
        ""
      ],
      "execution_count": null,
      "outputs": []
    },
    {
      "cell_type": "markdown",
      "metadata": {
        "id": "2WACeY4V3zeD"
      },
      "source": [
        "Splitting of the two variables into test and train,so that the model gets trained by particular data and is tested upon different data"
      ]
    },
    {
      "cell_type": "code",
      "metadata": {
        "id": "fzzR92jbNmft"
      },
      "source": [
        "P_train, P_test, Q_train, Q_test = train_test_split(P,Q, test_size = 0.2, stratify=Q, random_state=23)"
      ],
      "execution_count": null,
      "outputs": []
    },
    {
      "cell_type": "markdown",
      "metadata": {
        "id": "iTFHaMOi3_sz"
      },
      "source": [
        "We are choosing the test size to be of 20% "
      ]
    },
    {
      "cell_type": "markdown",
      "metadata": {
        "id": "p08Nbc221fHt"
      },
      "source": [
        "Printing the original  no P data and then split between the test and train"
      ]
    },
    {
      "cell_type": "code",
      "metadata": {
        "colab": {
          "base_uri": "https://localhost:8080/"
        },
        "id": "7baPJ2aqN19g",
        "outputId": "4bc3f311-bf93-49d0-e36d-8b7a8a8f5e8e"
      },
      "source": [
        "print(P.shape, P_train.shape, P_test.shape)"
      ],
      "execution_count": null,
      "outputs": [
        {
          "output_type": "stream",
          "name": "stdout",
          "text": [
            "(768, 8) (614, 8) (154, 8)\n"
          ]
        }
      ]
    },
    {
      "cell_type": "markdown",
      "metadata": {
        "id": "MdjyHpcFxRWw"
      },
      "source": [
        "Training the model"
      ]
    },
    {
      "cell_type": "code",
      "metadata": {
        "id": "8ngZ-vJE1qBq"
      },
      "source": [
        "train = svm.SVC(kernel='linear')"
      ],
      "execution_count": null,
      "outputs": []
    },
    {
      "cell_type": "markdown",
      "metadata": {
        "id": "R6zHZnqUxWNn"
      },
      "source": [
        "Training the model within our given values  of training values\n",
        "(SVM)"
      ]
    },
    {
      "cell_type": "code",
      "metadata": {
        "colab": {
          "base_uri": "https://localhost:8080/"
        },
        "id": "7UaoyUpbOAA7",
        "outputId": "1c8d01a0-ee5d-4cdb-99b9-61820c087899"
      },
      "source": [
        "train.fit(P_train, Q_train)"
      ],
      "execution_count": null,
      "outputs": [
        {
          "output_type": "execute_result",
          "data": {
            "text/plain": [
              "SVC(kernel='linear')"
            ]
          },
          "metadata": {},
          "execution_count": 180
        }
      ]
    },
    {
      "cell_type": "markdown",
      "metadata": {
        "id": "t1XeYxtg1o8G"
      },
      "source": [
        "Finding the training accuracy with the function training_accuracy"
      ]
    },
    {
      "cell_type": "code",
      "metadata": {
        "id": "V32N32DTOxpo"
      },
      "source": [
        "P_prediction = train.predict(P_train)\n",
        "training_accuracy = accuracy_score(P_prediction, Q_train)"
      ],
      "execution_count": null,
      "outputs": []
    },
    {
      "cell_type": "markdown",
      "metadata": {
        "id": "Q0educ8J1s_C"
      },
      "source": [
        "Printing the accuracy of the model(Training)"
      ]
    },
    {
      "cell_type": "code",
      "metadata": {
        "colab": {
          "base_uri": "https://localhost:8080/"
        },
        "id": "7vnJKCJN1xbo",
        "outputId": "81d2db43-4057-42f7-99de-3845f287cf7e"
      },
      "source": [
        "print('The accuracy of training data is  : ', training_accuracy*100,'%')"
      ],
      "execution_count": null,
      "outputs": [
        {
          "output_type": "stream",
          "name": "stdout",
          "text": [
            "The accuracy of training data is  :  78.66449511400651 %\n"
          ]
        }
      ]
    },
    {
      "cell_type": "markdown",
      "metadata": {
        "id": "lpCvjzXf1wiq"
      },
      "source": [
        "Printing the accuracy of the model(Testing)"
      ]
    },
    {
      "cell_type": "code",
      "metadata": {
        "id": "jJaB1mpy1z8_"
      },
      "source": [
        "testing_prediction = train.predict(P_test)\n",
        "test_accuracy = accuracy_score(testing_prediction, Q_test)"
      ],
      "execution_count": null,
      "outputs": []
    },
    {
      "cell_type": "code",
      "metadata": {
        "colab": {
          "base_uri": "https://localhost:8080/"
        },
        "id": "krQdf1l712m6",
        "outputId": "888c7126-c1e5-428c-8ac7-6673124fe7be"
      },
      "source": [
        "print('The accuracy of test data set is ',test_accuracy*100,'%')"
      ],
      "execution_count": null,
      "outputs": [
        {
          "output_type": "stream",
          "name": "stdout",
          "text": [
            "The accuracy of test data set is  77.27272727272727 %\n"
          ]
        }
      ]
    },
    {
      "cell_type": "markdown",
      "metadata": {
        "id": "h1evkUSxf2G9"
      },
      "source": [
        "Using and predicting with naive bayes algorithm"
      ]
    },
    {
      "cell_type": "code",
      "metadata": {
        "colab": {
          "base_uri": "https://localhost:8080/"
        },
        "id": "y0B3iowH0oX4",
        "outputId": "010d0949-0978-4344-84bd-f67754364ae6"
      },
      "source": [
        "from sklearn.naive_bayes import GaussianNB\n",
        "bayes = GaussianNB()\n",
        "bayes.fit(P_train, Q_train)"
      ],
      "execution_count": null,
      "outputs": [
        {
          "output_type": "execute_result",
          "data": {
            "text/plain": [
              "GaussianNB()"
            ]
          },
          "metadata": {},
          "execution_count": 185
        }
      ]
    },
    {
      "cell_type": "code",
      "metadata": {
        "id": "JEU-nicB2y1-"
      },
      "source": [
        "testing_prediciton_nb=bayes.predict(P_test)\n"
      ],
      "execution_count": null,
      "outputs": []
    },
    {
      "cell_type": "code",
      "metadata": {
        "id": "tQ2ANuCi36WI"
      },
      "source": [
        "test_accuracybayes = accuracy_score(testing_prediciton_nb, Q_test)"
      ],
      "execution_count": null,
      "outputs": []
    },
    {
      "cell_type": "markdown",
      "metadata": {
        "id": "zXuwSUNOgAEo"
      },
      "source": [
        "Testing and predicting with RandomForestClassifier"
      ]
    },
    {
      "cell_type": "code",
      "metadata": {
        "colab": {
          "base_uri": "https://localhost:8080/"
        },
        "id": "feCR-XwL-In5",
        "outputId": "2a411c11-e65f-4728-cb11-376c852ffa89"
      },
      "source": [
        "from sklearn.ensemble import RandomForestClassifier\n",
        "randomf = RandomForestClassifier(n_estimators = 12, criterion = 'entropy', random_state = 32)\n",
        "randomf.fit(P_train, Q_train)"
      ],
      "execution_count": null,
      "outputs": [
        {
          "output_type": "execute_result",
          "data": {
            "text/plain": [
              "RandomForestClassifier(criterion='entropy', n_estimators=12, random_state=32)"
            ]
          },
          "metadata": {},
          "execution_count": 188
        }
      ]
    },
    {
      "cell_type": "code",
      "metadata": {
        "id": "apXP3e3W-Q5V"
      },
      "source": [
        "testing_prediction_ranfor = randomf.predict(P_test)\n",
        "test_accuracy_ranfor = accuracy_score(testing_prediction_ranfor,Q_test)"
      ],
      "execution_count": null,
      "outputs": []
    },
    {
      "cell_type": "markdown",
      "metadata": {
        "id": "-X40mzejgGVK"
      },
      "source": [
        "Printing the accuracy of all three algorithms"
      ]
    },
    {
      "cell_type": "code",
      "metadata": {
        "colab": {
          "base_uri": "https://localhost:8080/"
        },
        "id": "6xRW5MI26l1t",
        "outputId": "5a8a20fe-31b4-4e12-bc88-5a89d280f22d"
      },
      "source": [
        "print('The accuracy of test data set in SVM ',test_accuracy*100,'%')\n",
        "print('The accuracy of test data set in Bayes algorithm is  ',test_accuracybayes*100,'%')\n",
        "print('The accuracy of test data set in random forest method   is  ',test_accuracy_ranfor*100,'%')\n"
      ],
      "execution_count": null,
      "outputs": [
        {
          "output_type": "stream",
          "name": "stdout",
          "text": [
            "The accuracy of test data set in SVM  77.27272727272727 %\n",
            "The accuracy of test data set in Bayes algorithm is   77.27272727272727 %\n",
            "The accuracy of test data set in random forest method   is   74.67532467532467 %\n"
          ]
        }
      ]
    },
    {
      "cell_type": "markdown",
      "metadata": {
        "id": "b58sxMrs7o8v"
      },
      "source": [
        "As we can see that the accuracy of the data set is higheer of SVM and naive bayes as compared to randomforest."
      ]
    },
    {
      "cell_type": "markdown",
      "metadata": {
        "id": "rdBrsn81OcF5"
      },
      "source": [
        "# Finding the outcome(Diabetic or not with input values)"
      ]
    },
    {
      "cell_type": "markdown",
      "metadata": {
        "id": "P6B0v_aigYdl"
      },
      "source": [
        "Here the user inputs values for finding out that he has diabetis or not\n",
        "(Note: Please change calues of the array as per the order in the dataser.)"
      ]
    },
    {
      "cell_type": "code",
      "metadata": {
        "colab": {
          "base_uri": "https://localhost:8080/"
        },
        "id": "qtmqf0Wu13GF",
        "outputId": "6a40c190-74da-450d-b4e5-1a117d8b7ff5"
      },
      "source": [
        "#input or replace values in this array as per the order of the data\n",
        "#array=[pregnacies,glucose,bloodpressure,skinthickness,insulin,bmi,diabetespdogreefunction,age]\n",
        "array=[2,120,60,20,120,30,0.2,30]\n",
        "\n",
        "check=np.asarray(array)\n",
        "\n",
        "check1=check.reshape(1,-1)\n",
        "\n",
        "input=standardscaler.transform(check1)\n",
        "print(input)\n",
        "\n",
        "#prints the value of the data which is tranformed and standardized as we did earler for higher accuracy\n",
        "\n",
        "\n"
      ],
      "execution_count": null,
      "outputs": [
        {
          "output_type": "stream",
          "name": "stdout",
          "text": [
            "[[-0.54791859 -0.02799627 -0.47073225 -0.03365099  0.34905694 -0.25289651\n",
            "  -0.8210987  -0.27575966]]\n"
          ]
        }
      ]
    },
    {
      "cell_type": "markdown",
      "metadata": {
        "id": "TJ6fRTnSgztN"
      },
      "source": [
        "Run this block  after running the above block to find out if if person is diabetic or not accoirding to algorithm "
      ]
    },
    {
      "cell_type": "code",
      "metadata": {
        "colab": {
          "base_uri": "https://localhost:8080/"
        },
        "id": "K7YTXhv4MUn0",
        "outputId": "d1319734-35d7-422a-a87a-4e8028e85ae1"
      },
      "source": [
        "predict_valuesgiven=train.predict(input)\n",
        "print(predict_valuesgiven)\n",
        "\n",
        "if(predict_valuesgiven[0]==1):\n",
        "    print(\"The person is diabetic\")\n",
        "else:\n",
        "    print(\"NO,The person is not diabetic\")\n"
      ],
      "execution_count": null,
      "outputs": [
        {
          "output_type": "stream",
          "name": "stdout",
          "text": [
            "[0]\n",
            "NO\n"
          ]
        }
      ]
    },
    {
      "cell_type": "markdown",
      "metadata": {
        "id": "9hoDr7APX6-q"
      },
      "source": [
        ""
      ]
    },
    {
      "cell_type": "markdown",
      "metadata": {
        "id": "SxVvG7lrPKHN"
      },
      "source": [
        "As we saw with our describe function the mean and other important factors of the dataset\n"
      ]
    },
    {
      "cell_type": "code",
      "metadata": {
        "id": "0CHbDTmuOumf"
      },
      "source": [
        "As we saw with our describe function the mean and other important factors of the dataset "
      ],
      "execution_count": null,
      "outputs": []
    },
    {
      "cell_type": "code",
      "metadata": {
        "colab": {
          "base_uri": "https://localhost:8080/",
          "height": 300
        },
        "id": "t5ZOHD1kPDKn",
        "outputId": "c7b86c76-ec1d-4817-c28a-0cd85d1e3b4c"
      },
      "source": [
        "diabetes_dataset.describe()"
      ],
      "execution_count": null,
      "outputs": [
        {
          "output_type": "execute_result",
          "data": {
            "text/html": [
              "<div>\n",
              "<style scoped>\n",
              "    .dataframe tbody tr th:only-of-type {\n",
              "        vertical-align: middle;\n",
              "    }\n",
              "\n",
              "    .dataframe tbody tr th {\n",
              "        vertical-align: top;\n",
              "    }\n",
              "\n",
              "    .dataframe thead th {\n",
              "        text-align: right;\n",
              "    }\n",
              "</style>\n",
              "<table border=\"1\" class=\"dataframe\">\n",
              "  <thead>\n",
              "    <tr style=\"text-align: right;\">\n",
              "      <th></th>\n",
              "      <th>Pregnancies</th>\n",
              "      <th>Glucose</th>\n",
              "      <th>BloodPressure</th>\n",
              "      <th>SkinThickness</th>\n",
              "      <th>Insulin</th>\n",
              "      <th>BMI</th>\n",
              "      <th>DiabetesPedigreeFunction</th>\n",
              "      <th>Age</th>\n",
              "      <th>Outcome</th>\n",
              "    </tr>\n",
              "  </thead>\n",
              "  <tbody>\n",
              "    <tr>\n",
              "      <th>count</th>\n",
              "      <td>768.000000</td>\n",
              "      <td>768.000000</td>\n",
              "      <td>768.000000</td>\n",
              "      <td>768.000000</td>\n",
              "      <td>768.000000</td>\n",
              "      <td>768.000000</td>\n",
              "      <td>768.000000</td>\n",
              "      <td>768.000000</td>\n",
              "      <td>768.000000</td>\n",
              "    </tr>\n",
              "    <tr>\n",
              "      <th>mean</th>\n",
              "      <td>3.845052</td>\n",
              "      <td>120.894531</td>\n",
              "      <td>69.105469</td>\n",
              "      <td>20.536458</td>\n",
              "      <td>79.799479</td>\n",
              "      <td>31.992578</td>\n",
              "      <td>0.471876</td>\n",
              "      <td>33.240885</td>\n",
              "      <td>0.348958</td>\n",
              "    </tr>\n",
              "    <tr>\n",
              "      <th>std</th>\n",
              "      <td>3.369578</td>\n",
              "      <td>31.972618</td>\n",
              "      <td>19.355807</td>\n",
              "      <td>15.952218</td>\n",
              "      <td>115.244002</td>\n",
              "      <td>7.884160</td>\n",
              "      <td>0.331329</td>\n",
              "      <td>11.760232</td>\n",
              "      <td>0.476951</td>\n",
              "    </tr>\n",
              "    <tr>\n",
              "      <th>min</th>\n",
              "      <td>0.000000</td>\n",
              "      <td>0.000000</td>\n",
              "      <td>0.000000</td>\n",
              "      <td>0.000000</td>\n",
              "      <td>0.000000</td>\n",
              "      <td>0.000000</td>\n",
              "      <td>0.078000</td>\n",
              "      <td>21.000000</td>\n",
              "      <td>0.000000</td>\n",
              "    </tr>\n",
              "    <tr>\n",
              "      <th>25%</th>\n",
              "      <td>1.000000</td>\n",
              "      <td>99.000000</td>\n",
              "      <td>62.000000</td>\n",
              "      <td>0.000000</td>\n",
              "      <td>0.000000</td>\n",
              "      <td>27.300000</td>\n",
              "      <td>0.243750</td>\n",
              "      <td>24.000000</td>\n",
              "      <td>0.000000</td>\n",
              "    </tr>\n",
              "    <tr>\n",
              "      <th>50%</th>\n",
              "      <td>3.000000</td>\n",
              "      <td>117.000000</td>\n",
              "      <td>72.000000</td>\n",
              "      <td>23.000000</td>\n",
              "      <td>30.500000</td>\n",
              "      <td>32.000000</td>\n",
              "      <td>0.372500</td>\n",
              "      <td>29.000000</td>\n",
              "      <td>0.000000</td>\n",
              "    </tr>\n",
              "    <tr>\n",
              "      <th>75%</th>\n",
              "      <td>6.000000</td>\n",
              "      <td>140.250000</td>\n",
              "      <td>80.000000</td>\n",
              "      <td>32.000000</td>\n",
              "      <td>127.250000</td>\n",
              "      <td>36.600000</td>\n",
              "      <td>0.626250</td>\n",
              "      <td>41.000000</td>\n",
              "      <td>1.000000</td>\n",
              "    </tr>\n",
              "    <tr>\n",
              "      <th>max</th>\n",
              "      <td>17.000000</td>\n",
              "      <td>199.000000</td>\n",
              "      <td>122.000000</td>\n",
              "      <td>99.000000</td>\n",
              "      <td>846.000000</td>\n",
              "      <td>67.100000</td>\n",
              "      <td>2.420000</td>\n",
              "      <td>81.000000</td>\n",
              "      <td>1.000000</td>\n",
              "    </tr>\n",
              "  </tbody>\n",
              "</table>\n",
              "</div>"
            ],
            "text/plain": [
              "       Pregnancies     Glucose  ...         Age     Outcome\n",
              "count   768.000000  768.000000  ...  768.000000  768.000000\n",
              "mean      3.845052  120.894531  ...   33.240885    0.348958\n",
              "std       3.369578   31.972618  ...   11.760232    0.476951\n",
              "min       0.000000    0.000000  ...   21.000000    0.000000\n",
              "25%       1.000000   99.000000  ...   24.000000    0.000000\n",
              "50%       3.000000  117.000000  ...   29.000000    0.000000\n",
              "75%       6.000000  140.250000  ...   41.000000    1.000000\n",
              "max      17.000000  199.000000  ...   81.000000    1.000000\n",
              "\n",
              "[8 rows x 9 columns]"
            ]
          },
          "metadata": {},
          "execution_count": 150
        }
      ]
    },
    {
      "cell_type": "markdown",
      "metadata": {
        "id": "AeVLiNuJX-K5"
      },
      "source": [
        "We will try and compute for the mean values of each value"
      ]
    },
    {
      "cell_type": "code",
      "metadata": {
        "colab": {
          "base_uri": "https://localhost:8080/"
        },
        "id": "1gsdtc5WYVXj",
        "outputId": "f224d8e0-bcfb-4bff-f816-481a52b99579"
      },
      "source": [
        "#input or replace values in this array as per the order of the data\n",
        "#array=[pregnacies,glucose,bloodpressure,skinthickness,insulin,bmi,diabetespdogreefunction,age]\n",
        "#array=[3,120,69,20,79,31,0.471,33]\n",
        "\n",
        "check=np.asarray(array)\n",
        "\n",
        "check1=check.reshape(1,-1)\n",
        "\n",
        "input=standardscaler.transform(check1)\n",
        "print(input)\n",
        "\n",
        "\n"
      ],
      "execution_count": null,
      "outputs": [
        {
          "output_type": "stream",
          "name": "stdout",
          "text": [
            "[[-0.54791859 -0.02799627 -0.47073225 -0.03365099  0.34905694 -0.25289651\n",
            "  -0.8210987  -0.27575966]]\n"
          ]
        }
      ]
    },
    {
      "cell_type": "code",
      "metadata": {
        "id": "HROD5BsuPCWX"
      },
      "source": [
        ""
      ],
      "execution_count": null,
      "outputs": []
    },
    {
      "cell_type": "code",
      "metadata": {
        "colab": {
          "base_uri": "https://localhost:8080/"
        },
        "id": "RUFVHah2YMvM",
        "outputId": "33f178eb-42a3-48fd-f8e0-b643aa62237a"
      },
      "source": [
        "predict_valuesgiven=train.predict(input)\n",
        "print(predict_valuesgiven)\n",
        "\n",
        "if(predict_valuesgiven[0]==1):\n",
        "    print(\"The person is diabetic\")\n",
        "else:\n",
        "    print(\"NO,the person is not diabetic\")\n"
      ],
      "execution_count": null,
      "outputs": [
        {
          "output_type": "stream",
          "name": "stdout",
          "text": [
            "[0]\n",
            "NO\n"
          ]
        }
      ]
    },
    {
      "cell_type": "markdown",
      "metadata": {
        "id": "VuDLSp6qZI-v"
      },
      "source": [
        "Now we check for all the values which are above 75 per cent as per our describe function and analysis of data we can say that the outcome should be 1(i.e diabetic)"
      ]
    },
    {
      "cell_type": "code",
      "metadata": {
        "id": "ObnQVLsGZBYw"
      },
      "source": [
        ""
      ],
      "execution_count": null,
      "outputs": []
    },
    {
      "cell_type": "code",
      "metadata": {
        "colab": {
          "base_uri": "https://localhost:8080/"
        },
        "id": "ZY9nClhEZBpB",
        "outputId": "4b72563b-aeeb-424f-8df2-534fb4968ce6"
      },
      "source": [
        "#input or replace values in this array as per the order of the data\n",
        "#array=[pregnacies,glucose,bloodpressure,skinthickness,insulin,bmi,diabetespdogreefunction,age]\n",
        "\n",
        "array=[6.000000,140.250000,80.000000,32.000000,127.250000,36.600000,0.626250,41.000000]\n",
        "#array=[preg,gluc,bp,skin,ins,bmi,dpf,age]\n",
        "check=np.asarray(array)\n",
        "\n",
        "check1=check.reshape(1,-1)\n",
        "\n",
        "input=standardscaler.transform(check1)\n",
        "print(input)\n",
        "\n",
        "\n"
      ],
      "execution_count": null,
      "outputs": [
        {
          "output_type": "stream",
          "name": "stdout",
          "text": [
            "[[0.63994726 0.60577092 0.56322275 0.71908574 0.41200793 0.58477051\n",
            "  0.46622689 0.66020563]]\n"
          ]
        }
      ]
    },
    {
      "cell_type": "code",
      "metadata": {
        "colab": {
          "base_uri": "https://localhost:8080/"
        },
        "id": "Ll7S8fAVZGnf",
        "outputId": "e9ed76c0-cdfa-4716-e3f1-dbdb1fadeb4d"
      },
      "source": [
        "predict_valuesgiven=train.predict(input)\n",
        "print(predict_valuesgiven)\n",
        "\n",
        "if(predict_valuesgiven[0]==1):\n",
        "    print(\"The person is diabetic\")\n",
        "else:\n",
        "    print(\"NO,the person is not diabetic\")\n"
      ],
      "execution_count": null,
      "outputs": [
        {
          "output_type": "stream",
          "name": "stdout",
          "text": [
            "[1]\n",
            "Diabates\n"
          ]
        }
      ]
    },
    {
      "cell_type": "markdown",
      "metadata": {
        "id": "RYXiQYp-aMK8"
      },
      "source": [
        "Getting results as Diabetic, as predicted from our describe function"
      ]
    },
    {
      "cell_type": "markdown",
      "metadata": {
        "id": "Tod7QZZBacNP"
      },
      "source": [
        "Now lets keep the values of glucose,insulin,age and bmi as it is 75% higher values and all other values at the mean.(Beacuse our heat map said that glucose,insulin,age and bmi have high a correlation between the outcome as comapred "
      ]
    },
    {
      "cell_type": "code",
      "metadata": {
        "colab": {
          "base_uri": "https://localhost:8080/"
        },
        "id": "kwTzEivsadMU",
        "outputId": "e3858383-2120-41f6-9d03-836a5b192fdf"
      },
      "source": [
        "#input or replace values in this array as per the order of the data\n",
        "#array=[pregnacies,glucose,bloodpressure,skinthickness,insulin,bmi,diabetespdogreefunction,age]\n",
        "\n",
        "array=[3,140.25000,80.0000,20.5,127.250000,36.6,0.47,41]\n",
        "\n",
        "check=np.asarray(array)\n",
        "\n",
        "check1=check.reshape(1,-1)\n",
        "\n",
        "input=standardscaler.transform(check1)\n",
        "print(input)\n",
        "\n",
        "\n"
      ],
      "execution_count": null,
      "outputs": [
        {
          "output_type": "stream",
          "name": "stdout",
          "text": [
            "[[-0.25095213  0.60577092  0.56322275 -0.00228696  0.41200793  0.58477051\n",
            "  -0.00566665  0.66020563]]\n"
          ]
        }
      ]
    },
    {
      "cell_type": "code",
      "metadata": {
        "id": "RGbvv-E9c2y6"
      },
      "source": [
        ""
      ],
      "execution_count": null,
      "outputs": []
    },
    {
      "cell_type": "code",
      "metadata": {
        "colab": {
          "base_uri": "https://localhost:8080/"
        },
        "id": "rNpgaqY_c2_m",
        "outputId": "cb4f0d04-8e05-4304-86a2-30485dcd9ca1"
      },
      "source": [
        "predict_valuesgiven=train.predict(input)\n",
        "print(predict_valuesgiven)\n",
        "\n",
        "if(predict_valuesgiven[0]==1):\n",
        "    print(\"The person is diabetic\")\n",
        "else:\n",
        "    print(\"NO,the person is not diabetic\")\n"
      ],
      "execution_count": null,
      "outputs": [
        {
          "output_type": "stream",
          "name": "stdout",
          "text": [
            "[1]\n",
            "Diabates\n"
          ]
        }
      ]
    },
    {
      "cell_type": "markdown",
      "metadata": {
        "id": "PqBXMwc1c9g2"
      },
      "source": [
        "The outcome is diabetic as was predicted by our heat map that glucose,insulin bmi and age have a greater impact on the outcome"
      ]
    },
    {
      "cell_type": "code",
      "metadata": {
        "id": "0SomAJOUaboj"
      },
      "source": [
        ""
      ],
      "execution_count": null,
      "outputs": []
    }
  ]
}